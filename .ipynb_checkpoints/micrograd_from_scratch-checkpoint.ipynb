{
 "cells": [
  {
   "cell_type": "code",
   "execution_count": 59,
   "id": "4c3b05cd-4626-4a2b-93ed-7112bc6d6969",
   "metadata": {},
   "outputs": [],
   "source": [
    "import math\n",
    "import numpy as np\n",
    "import matplotlib.pyplot as plt\n",
    "%matplotlib inline"
   ]
  },
  {
   "cell_type": "markdown",
   "id": "6cea052b-4ceb-4a30-a468-bb588f3cfded",
   "metadata": {},
   "source": [
    "Suppose we have a function $f(x)=3x^2 -4x +5$"
   ]
  },
  {
   "cell_type": "code",
   "execution_count": 62,
   "id": "7cbd0a1d-a22c-4d4b-a16c-47f70fd4aaa2",
   "metadata": {},
   "outputs": [],
   "source": [
    "def f(x):\n",
    "    return 3*x**2-4*x +5"
   ]
  },
  {
   "cell_type": "markdown",
   "id": "97dcdaab-61ec-4cd8-a679-be7acbd69ddc",
   "metadata": {},
   "source": [
    "f(3.0)"
   ]
  },
  {
   "cell_type": "code",
   "execution_count": 63,
   "id": "eeed98a6-157c-4709-8d89-1370c9dc7436",
   "metadata": {},
   "outputs": [
    {
     "data": {
      "image/png": "[encoded data removed]",
      "text/plain": [
       "<Figure size 640x480 with 1 Axes>"
      ]
     },
     "metadata": {},
     "output_type": "display_data"
    }
   ],
   "source": [
    "xs = np.arange(-5, 5, 0.25)\n",
    "ys = f(xs)\n",
    "plt.plot(xs, ys)\n",
    "plt.show()"
   ]
  },
  {
   "cell_type": "markdown",
   "id": "c4c9b8e9-a0ca-4603-bf16-61569246cd81",
   "metadata": {},
   "source": [
    "To find the derivative of the function above, we can do $(f(x+h) - f(x))/h$ where h represents a small number that we would like to bump x by:"
   ]
  },
  {
   "cell_type": "code",
   "execution_count": 64,
   "id": "ea05a0f3-c3e0-4b12-b867-30bad895f439",
   "metadata": {},
   "outputs": [
    {
     "data": {
      "text/plain": [
       "14.000000305713911"
      ]
     },
     "execution_count": 64,
     "metadata": {},
     "output_type": "execute_result"
    }
   ],
   "source": [
    "h = 0.0000001\n",
    "x = 3\n",
    "der = (f(x+h)-f(x))/h\n",
    "der # The result is 14."
   ]
  },
  {
   "cell_type": "code",
   "execution_count": 65,
   "id": "b3b6fd85-aa2a-4973-a85b-e92fe798230c",
   "metadata": {},
   "outputs": [
    {
     "data": {
      "text/plain": [
       "-21.999999688659955"
      ]
     },
     "execution_count": 65,
     "metadata": {},
     "output_type": "execute_result"
    }
   ],
   "source": [
    "h1 = 0.0000001\n",
    "x1 = -3\n",
    "der1 = (f(x1+h)-f(x1))/h1\n",
    "der1"
   ]
  },
  {
   "cell_type": "markdown",
   "id": "c21504f3-378d-4c5c-ba16-deba55c6215d",
   "metadata": {},
   "source": [
    "### More complex case\n",
    "Suppose we have a function with three scalar inputs, a, b. and c, let's see how we can calculate the derivative of the function d with respect to each of the scalar inputs."
   ]
  },
  {
   "cell_type": "code",
   "execution_count": 66,
   "id": "34915e79-40cf-4c81-8051-fd567c7cf621",
   "metadata": {},
   "outputs": [
    {
     "name": "stdout",
     "output_type": "stream",
     "text": [
      "4.0\n"
     ]
    }
   ],
   "source": [
    "a = 2.0\n",
    "b =-3.0\n",
    "c =10.0\n",
    "d = a*b+c\n",
    "print(d)"
   ]
  },
  {
   "cell_type": "code",
   "execution_count": 120,
   "id": "370e27b3-e3bd-42ef-8c77-b645dc40da8d",
   "metadata": {},
   "outputs": [
    {
     "name": "stdout",
     "output_type": "stream",
     "text": [
      "d1 4.0\n",
      "d2 4.0002\n",
      "slope 2.0000000000042206\n"
     ]
    }
   ],
   "source": [
    "h = 0.0001\n",
    "\n",
    "#inputs\n",
    "a = 2.0\n",
    "b =-3.0\n",
    "c =10.0\n",
    "# First function\n",
    "d1 = a*b+c\n",
    "#bump one of the inputs by h\n",
    "b+=h\n",
    "d2 = a*b+c\n",
    "\n",
    "print('d1', d1)\n",
    "print('d2', d2)\n",
    "print('slope', (d2-d1)/h)"
   ]
  },
  {
   "cell_type": "markdown",
   "id": "9f438ada-901b-4354-bc2e-068c47147d27",
   "metadata": {},
   "source": [
    "## Creating Data type for working with the Neural Net"
   ]
  },
  {
   "cell_type": "code",
   "execution_count": 169,
   "id": "54857388-053c-489a-8604-4f9005b323f4",
   "metadata": {},
   "outputs": [
    {
     "data": {
      "text/plain": [
       "Value(data=-8.0)"
      ]
     },
     "execution_count": 169,
     "metadata": {},
     "output_type": "execute_result"
    }
   ],
   "source": [
    "class Value:\n",
    "    def __init__(self, data, _children=(), _op='', label=''):\n",
    "        self.data = data\n",
    "        self.grad = 0.0\n",
    "        self._backward = lambda: None\n",
    "        self._prev = set(_children)\n",
    "        self._op = _op\n",
    "        self.label = label\n",
    "    def __repr__(self):\n",
    "        return f\"Value(data={self.data})\"\n",
    "\n",
    "    def __add__(self, other):\n",
    "        out = Value(self.data+other.data, (self, other), '+')\n",
    "\n",
    "        def _backward():\n",
    "            self.grad = 1.0 * out.grad\n",
    "            other.grad = 1.0 * out.grad\n",
    "        out._backward = _backward\n",
    "        return out\n",
    "        \n",
    "    def __mul__(self, other):\n",
    "        out = Value(self.data*other.data, (self, other), '*')\n",
    "\n",
    "        def _backward():\n",
    "            self.grad = other.data * out.grad\n",
    "            other.grad = self.data * out.grad\n",
    "        out._backward = _backward\n",
    "        return out\n",
    "    def tanh(self):\n",
    "        x = self.data\n",
    "        t = (math.exp(2*x)-1) / (math.exp(2*x)+1)\n",
    "        out = Value(t, (self,), label='tanh')\n",
    "\n",
    "        def _backward():\n",
    "            self.grad = (1 -t**2) * out.grad\n",
    "        out._backward = _backward\n",
    "        return out\n",
    "\n",
    "a = Value(2.0, label='a')\n",
    "b = Value(-3.0, label='b')\n",
    "c = Value(10.0, label ='c')\n",
    "e = a*b; e.label = 'e'\n",
    "d = e+c; d.label ='d'\n",
    "f = Value(-2.0, label='f')\n",
    "L = d*f; L.label ='L'\n",
    "L"
   ]
  },
  {
   "cell_type": "code",
   "execution_count": 69,
   "id": "90cbbe86-26b1-4779-9467-0f1aba1e9e5f",
   "metadata": {},
   "outputs": [
    {
     "data": {
      "text/plain": [
       "({Value(data=-6.0), Value(data=10.0)}, '+')"
      ]
     },
     "execution_count": 69,
     "metadata": {},
     "output_type": "execute_result"
    }
   ],
   "source": [
    "(d._prev,d._op)"
   ]
  },
  {
   "cell_type": "markdown",
   "id": "8082eac8-eedd-4746-a943-593287a1357a",
   "metadata": {},
   "source": [
    "## Visualizing the Operations / Expression graph"
   ]
  },
  {
   "cell_type": "code",
   "execution_count": 95,
   "id": "5e60cc56-c2a2-4375-9ae8-b14f0350be36",
   "metadata": {},
   "outputs": [],
   "source": [
    "#!pip install graphviz \n",
    "from graphviz import Digraph\n",
    "\n",
    "def trace(root):\n",
    "    nodes, edges = set(), set()\n",
    "    def build(v):\n",
    "        if v not in nodes:\n",
    "            nodes.add(v)\n",
    "            for child in v._prev:\n",
    "                edges.add((child, v))\n",
    "                build(child)\n",
    "    build(root)\n",
    "    return nodes, edges\n",
    "\n",
    "def draw_dot(root, format='svg', rankdir='LR'):\n",
    "    \"\"\"\n",
    "    format: png | svg | ...\n",
    "    rankdir: TB (top to bottom graph) | LR (left to right)\n",
    "    \"\"\"\n",
    "    assert rankdir in ['LR', 'TB']\n",
    "    nodes, edges = trace(root)\n",
    "    dot = Digraph(format=format, graph_attr={'rankdir': rankdir}) #, node_attr={'rankdir': 'TB'})\n",
    "    \n",
    "    for n in nodes:\n",
    "        dot.node(name=str(id(n)), label = \"{%s | data %.4f | grad %.4f  }\" % (n.label,n.data,n.grad ), shape='record')\n",
    "        if n._op:\n",
    "            dot.node(name=str(id(n)) + n._op, label=n._op)\n",
    "            dot.edge(str(id(n)) + n._op, str(id(n)))\n",
    "    \n",
    "    for n1, n2 in edges:\n",
    "        dot.edge(str(id(n1)), str(id(n2)) + n2._op)\n",
    "    \n",
    "    return dot"
   ]
  },
  {
   "cell_type": "code",
   "execution_count": 174,
   "id": "5810f16e-9e3d-4eda-9eaa-d77803268a93",
   "metadata": {},
   "outputs": [
    {
     "data": {
      "image/svg+xml": [
       "<?xml version=\"1.0\" encoding=\"UTF-8\" standalone=\"no\"?>\n",
       "<!DOCTYPE svg PUBLIC \"-//W3C//DTD SVG 1.1//EN\"\n",
       " \"http://www.w3.org/Graphics/SVG/1.1/DTD/svg11.dtd\">\n",
       "<!-- Generated by graphviz version 7.1.0 (20230122.1345)\n",
       " -->\n",
       "<!-- Pages: 1 -->\n",
       "<svg width=\"1343pt\" height=\"154pt\"\n",
       " viewBox=\"0.00 0.00 1343.00 154.00\" xmlns=\"http://www.w3.org/2000/svg\" xmlns:xlink=\"http://www.w3.org/1999/xlink\">\n",
       "<g id=\"graph0\" class=\"graph\" transform=\"scale(1 1) rotate(0) translate(4 150)\">\n",
       "<polygon fill=\"white\" stroke=\"none\" points=\"-4,4 -4,-150 1339,-150 1339,4 -4,4\"/>\n",
       "<!-- 139953955029104 -->\n",
       "<g id=\"node1\" class=\"node\">\n",
       "<title>139953955029104</title>\n",
       "<polygon fill=\"none\" stroke=\"black\" points=\"737.5,-109.5 737.5,-145.5 970.5,-145.5 970.5,-109.5 737.5,-109.5\"/>\n",
       "<text text-anchor=\"middle\" x=\"748.5\" y=\"-123.8\" font-family=\"Times,serif\" font-size=\"14.00\">f</text>\n",
       "<polyline fill=\"none\" stroke=\"black\" points=\"759.5,-109.5 759.5,-145.5\"/>\n",
       "<text text-anchor=\"middle\" x=\"813\" y=\"-123.8\" font-family=\"Times,serif\" font-size=\"14.00\">data &#45;2.0000</text>\n",
       "<polyline fill=\"none\" stroke=\"black\" points=\"866.5,-109.5 866.5,-145.5\"/>\n",
       "<text text-anchor=\"middle\" x=\"918.5\" y=\"-123.8\" font-family=\"Times,serif\" font-size=\"14.00\">grad 4.0000</text>\n",
       "</g>\n",
       "<!-- 139953955645632* -->\n",
       "<g id=\"node6\" class=\"node\">\n",
       "<title>139953955645632*</title>\n",
       "<ellipse fill=\"none\" stroke=\"black\" cx=\"1035\" cy=\"-99.5\" rx=\"27\" ry=\"18\"/>\n",
       "<text text-anchor=\"middle\" x=\"1035\" y=\"-95.8\" font-family=\"Times,serif\" font-size=\"14.00\">*</text>\n",
       "</g>\n",
       "<!-- 139953955029104&#45;&gt;139953955645632* -->\n",
       "<g id=\"edge9\" class=\"edge\">\n",
       "<title>139953955029104&#45;&gt;139953955645632*</title>\n",
       "<path fill=\"none\" stroke=\"black\" d=\"M969.88,-109.53C979.6,-108.01 988.88,-106.56 997.22,-105.25\"/>\n",
       "<polygon fill=\"black\" stroke=\"black\" points=\"997.48,-108.75 1006.82,-103.75 996.4,-101.84 997.48,-108.75\"/>\n",
       "</g>\n",
       "<!-- 139953955032224 -->\n",
       "<g id=\"node2\" class=\"node\">\n",
       "<title>139953955032224</title>\n",
       "<polygon fill=\"none\" stroke=\"black\" points=\"0,-55.5 0,-91.5 241,-91.5 241,-55.5 0,-55.5\"/>\n",
       "<text text-anchor=\"middle\" x=\"13\" y=\"-69.8\" font-family=\"Times,serif\" font-size=\"14.00\">b</text>\n",
       "<polyline fill=\"none\" stroke=\"black\" points=\"26,-55.5 26,-91.5\"/>\n",
       "<text text-anchor=\"middle\" x=\"79.5\" y=\"-69.8\" font-family=\"Times,serif\" font-size=\"14.00\">data &#45;3.0000</text>\n",
       "<polyline fill=\"none\" stroke=\"black\" points=\"133,-55.5 133,-91.5\"/>\n",
       "<text text-anchor=\"middle\" x=\"187\" y=\"-69.8\" font-family=\"Times,serif\" font-size=\"14.00\">grad &#45;4.0000</text>\n",
       "</g>\n",
       "<!-- 139953955029968* -->\n",
       "<g id=\"node10\" class=\"node\">\n",
       "<title>139953955029968*</title>\n",
       "<ellipse fill=\"none\" stroke=\"black\" cx=\"304\" cy=\"-45.5\" rx=\"27\" ry=\"18\"/>\n",
       "<text text-anchor=\"middle\" x=\"304\" y=\"-41.8\" font-family=\"Times,serif\" font-size=\"14.00\">*</text>\n",
       "</g>\n",
       "<!-- 139953955032224&#45;&gt;139953955029968* -->\n",
       "<g id=\"edge8\" class=\"edge\">\n",
       "<title>139953955032224&#45;&gt;139953955029968*</title>\n",
       "<path fill=\"none\" stroke=\"black\" d=\"M237.99,-55.53C247.93,-53.99 257.43,-52.53 265.95,-51.22\"/>\n",
       "<polygon fill=\"black\" stroke=\"black\" points=\"266.42,-54.68 275.77,-49.7 265.36,-47.77 266.42,-54.68\"/>\n",
       "</g>\n",
       "<!-- 139953955044032 -->\n",
       "<g id=\"node3\" class=\"node\">\n",
       "<title>139953955044032</title>\n",
       "<polygon fill=\"none\" stroke=\"black\" points=\"736,-54.5 736,-90.5 972,-90.5 972,-54.5 736,-54.5\"/>\n",
       "<text text-anchor=\"middle\" x=\"749\" y=\"-68.8\" font-family=\"Times,serif\" font-size=\"14.00\">d</text>\n",
       "<polyline fill=\"none\" stroke=\"black\" points=\"762,-54.5 762,-90.5\"/>\n",
       "<text text-anchor=\"middle\" x=\"813\" y=\"-68.8\" font-family=\"Times,serif\" font-size=\"14.00\">data 4.0000</text>\n",
       "<polyline fill=\"none\" stroke=\"black\" points=\"864,-54.5 864,-90.5\"/>\n",
       "<text text-anchor=\"middle\" x=\"918\" y=\"-68.8\" font-family=\"Times,serif\" font-size=\"14.00\">grad &#45;2.0000</text>\n",
       "</g>\n",
       "<!-- 139953955044032&#45;&gt;139953955645632* -->\n",
       "<g id=\"edge7\" class=\"edge\">\n",
       "<title>139953955044032&#45;&gt;139953955645632*</title>\n",
       "<path fill=\"none\" stroke=\"black\" d=\"M971.9,-90.13C980.78,-91.47 989.26,-92.75 996.95,-93.91\"/>\n",
       "<polygon fill=\"black\" stroke=\"black\" points=\"996.4,-97.37 1006.81,-95.4 997.45,-90.45 996.4,-97.37\"/>\n",
       "</g>\n",
       "<!-- 139953955044032+ -->\n",
       "<g id=\"node4\" class=\"node\">\n",
       "<title>139953955044032+</title>\n",
       "<ellipse fill=\"none\" stroke=\"black\" cx=\"673\" cy=\"-72.5\" rx=\"27\" ry=\"18\"/>\n",
       "<text text-anchor=\"middle\" x=\"673\" y=\"-68.8\" font-family=\"Times,serif\" font-size=\"14.00\">+</text>\n",
       "</g>\n",
       "<!-- 139953955044032+&#45;&gt;139953955044032 -->\n",
       "<g id=\"edge1\" class=\"edge\">\n",
       "<title>139953955044032+&#45;&gt;139953955044032</title>\n",
       "<path fill=\"none\" stroke=\"black\" d=\"M700.41,-72.5C707.52,-72.5 715.72,-72.5 724.54,-72.5\"/>\n",
       "<polygon fill=\"black\" stroke=\"black\" points=\"724.5,-76 734.5,-72.5 724.5,-69 724.5,-76\"/>\n",
       "</g>\n",
       "<!-- 139953955645632 -->\n",
       "<g id=\"node5\" class=\"node\">\n",
       "<title>139953955645632</title>\n",
       "<polygon fill=\"none\" stroke=\"black\" points=\"1098,-81.5 1098,-117.5 1335,-117.5 1335,-81.5 1098,-81.5\"/>\n",
       "<text text-anchor=\"middle\" x=\"1111\" y=\"-95.8\" font-family=\"Times,serif\" font-size=\"14.00\">L</text>\n",
       "<polyline fill=\"none\" stroke=\"black\" points=\"1124,-81.5 1124,-117.5\"/>\n",
       "<text text-anchor=\"middle\" x=\"1177.5\" y=\"-95.8\" font-family=\"Times,serif\" font-size=\"14.00\">data &#45;8.0000</text>\n",
       "<polyline fill=\"none\" stroke=\"black\" points=\"1231,-81.5 1231,-117.5\"/>\n",
       "<text text-anchor=\"middle\" x=\"1283\" y=\"-95.8\" font-family=\"Times,serif\" font-size=\"14.00\">grad 1.0000</text>\n",
       "</g>\n",
       "<!-- 139953955645632*&#45;&gt;139953955645632 -->\n",
       "<g id=\"edge2\" class=\"edge\">\n",
       "<title>139953955645632*&#45;&gt;139953955645632</title>\n",
       "<path fill=\"none\" stroke=\"black\" d=\"M1062.49,-99.5C1069.62,-99.5 1077.83,-99.5 1086.68,-99.5\"/>\n",
       "<polygon fill=\"black\" stroke=\"black\" points=\"1086.67,-103 1096.67,-99.5 1086.67,-96 1086.67,-103\"/>\n",
       "</g>\n",
       "<!-- 139953955039040 -->\n",
       "<g id=\"node7\" class=\"node\">\n",
       "<title>139953955039040</title>\n",
       "<polygon fill=\"none\" stroke=\"black\" points=\"367,-82.5 367,-118.5 610,-118.5 610,-82.5 367,-82.5\"/>\n",
       "<text text-anchor=\"middle\" x=\"379\" y=\"-96.8\" font-family=\"Times,serif\" font-size=\"14.00\">c</text>\n",
       "<polyline fill=\"none\" stroke=\"black\" points=\"391,-82.5 391,-118.5\"/>\n",
       "<text text-anchor=\"middle\" x=\"446.5\" y=\"-96.8\" font-family=\"Times,serif\" font-size=\"14.00\">data 10.0000</text>\n",
       "<polyline fill=\"none\" stroke=\"black\" points=\"502,-82.5 502,-118.5\"/>\n",
       "<text text-anchor=\"middle\" x=\"556\" y=\"-96.8\" font-family=\"Times,serif\" font-size=\"14.00\">grad &#45;2.0000</text>\n",
       "</g>\n",
       "<!-- 139953955039040&#45;&gt;139953955044032+ -->\n",
       "<g id=\"edge4\" class=\"edge\">\n",
       "<title>139953955039040&#45;&gt;139953955044032+</title>\n",
       "<path fill=\"none\" stroke=\"black\" d=\"M606.63,-82.53C616.84,-80.96 626.58,-79.47 635.28,-78.13\"/>\n",
       "<polygon fill=\"black\" stroke=\"black\" points=\"635.59,-81.63 644.94,-76.65 634.53,-74.71 635.59,-81.63\"/>\n",
       "</g>\n",
       "<!-- 139953955032944 -->\n",
       "<g id=\"node8\" class=\"node\">\n",
       "<title>139953955032944</title>\n",
       "<polygon fill=\"none\" stroke=\"black\" points=\"5,-0.5 5,-36.5 236,-36.5 236,-0.5 5,-0.5\"/>\n",
       "<text text-anchor=\"middle\" x=\"17.5\" y=\"-14.8\" font-family=\"Times,serif\" font-size=\"14.00\">a</text>\n",
       "<polyline fill=\"none\" stroke=\"black\" points=\"30,-0.5 30,-36.5\"/>\n",
       "<text text-anchor=\"middle\" x=\"81\" y=\"-14.8\" font-family=\"Times,serif\" font-size=\"14.00\">data 2.0000</text>\n",
       "<polyline fill=\"none\" stroke=\"black\" points=\"132,-0.5 132,-36.5\"/>\n",
       "<text text-anchor=\"middle\" x=\"184\" y=\"-14.8\" font-family=\"Times,serif\" font-size=\"14.00\">grad 6.0000</text>\n",
       "</g>\n",
       "<!-- 139953955032944&#45;&gt;139953955029968* -->\n",
       "<g id=\"edge5\" class=\"edge\">\n",
       "<title>139953955032944&#45;&gt;139953955029968*</title>\n",
       "<path fill=\"none\" stroke=\"black\" d=\"M235.93,-35.52C246.66,-37.12 256.92,-38.64 266.04,-40\"/>\n",
       "<polygon fill=\"black\" stroke=\"black\" points=\"265.42,-43.45 275.82,-41.46 266.45,-36.52 265.42,-43.45\"/>\n",
       "</g>\n",
       "<!-- 139953955029968 -->\n",
       "<g id=\"node9\" class=\"node\">\n",
       "<title>139953955029968</title>\n",
       "<polygon fill=\"none\" stroke=\"black\" points=\"368.5,-27.5 368.5,-63.5 608.5,-63.5 608.5,-27.5 368.5,-27.5\"/>\n",
       "<text text-anchor=\"middle\" x=\"381\" y=\"-41.8\" font-family=\"Times,serif\" font-size=\"14.00\">e</text>\n",
       "<polyline fill=\"none\" stroke=\"black\" points=\"393.5,-27.5 393.5,-63.5\"/>\n",
       "<text text-anchor=\"middle\" x=\"447\" y=\"-41.8\" font-family=\"Times,serif\" font-size=\"14.00\">data &#45;6.0000</text>\n",
       "<polyline fill=\"none\" stroke=\"black\" points=\"500.5,-27.5 500.5,-63.5\"/>\n",
       "<text text-anchor=\"middle\" x=\"554.5\" y=\"-41.8\" font-family=\"Times,serif\" font-size=\"14.00\">grad &#45;2.0000</text>\n",
       "</g>\n",
       "<!-- 139953955029968&#45;&gt;139953955044032+ -->\n",
       "<g id=\"edge6\" class=\"edge\">\n",
       "<title>139953955029968&#45;&gt;139953955044032+</title>\n",
       "<path fill=\"none\" stroke=\"black\" d=\"M608.43,-63.09C617.91,-64.5 626.95,-65.84 635.09,-67.04\"/>\n",
       "<polygon fill=\"black\" stroke=\"black\" points=\"634.4,-70.48 644.81,-68.48 635.43,-63.55 634.4,-70.48\"/>\n",
       "</g>\n",
       "<!-- 139953955029968*&#45;&gt;139953955029968 -->\n",
       "<g id=\"edge3\" class=\"edge\">\n",
       "<title>139953955029968*&#45;&gt;139953955029968</title>\n",
       "<path fill=\"none\" stroke=\"black\" d=\"M331.15,-45.5C338.73,-45.5 347.56,-45.5 357.09,-45.5\"/>\n",
       "<polygon fill=\"black\" stroke=\"black\" points=\"357.06,-49 367.06,-45.5 357.06,-42 357.06,-49\"/>\n",
       "</g>\n",
       "</g>\n",
       "</svg>\n"
      ],
      "text/plain": [
       "<graphviz.graphs.Digraph at 0x7f4991c67c70>"
      ]
     },
     "execution_count": 174,
     "metadata": {},
     "output_type": "execute_result"
    }
   ],
   "source": [
    "draw_dot(L)"
   ]
  },
  {
   "cell_type": "code",
   "execution_count": 173,
   "id": "6e44059e-69d1-4b65-a2d1-b21567ce4791",
   "metadata": {},
   "outputs": [],
   "source": [
    "L.grad = 1.0\n",
    "f.grad = 4.0\n",
    "d.grad = -2.0\n",
    "c.grad = -2.0\n",
    "e.grad = -2.0\n",
    "a.grad = 6.0\n",
    "b.grad = -4.0"
   ]
  },
  {
   "cell_type": "code",
   "execution_count": 135,
   "id": "7dff222f-c8d2-4114-972c-245d9e3e0fd0",
   "metadata": {},
   "outputs": [
    {
     "name": "stdout",
     "output_type": "stream",
     "text": [
      "L1: -8.0\n",
      "L2: -8.0004\n",
      "Slope -4.000000000008441\n"
     ]
    }
   ],
   "source": [
    "def lol():\n",
    "    h = 0.0001\n",
    "    \n",
    "    a = Value(2.0, label='a')\n",
    "    b = Value(-3.0, label='b')\n",
    "    c = Value(10.0, label ='c')\n",
    "    e = a*b; e.label = 'e'\n",
    "    d = e+c; d.label ='d'\n",
    "    f = Value(-2.0, label='f')\n",
    "    L = d*f; L.label ='L'\n",
    "    L1= L.data\n",
    "    \n",
    "    a = Value(2.0, label='a')\n",
    "    b = Value(-3.0, label='b')\n",
    "    b.data +=h\n",
    "    c = Value(10.0, label ='c')\n",
    "    e = a*b; e.label = 'e'\n",
    "    d = e+c; d.label ='d'\n",
    "    f = Value(-2.0, label='f')\n",
    "    L = d*f; L.label ='L'\n",
    "    L2 = L.data\n",
    "    \n",
    "    print('L1:', L1)\n",
    "    print('L2:', L2)\n",
    "    print('Slope', (L2-L1)/h)\n",
    "lol()"
   ]
  },
  {
   "cell_type": "markdown",
   "id": "e226b677-d0ba-426e-a3f7-31afc8eae105",
   "metadata": {},
   "source": [
    "## Backpropagation in a Neuron"
   ]
  },
  {
   "cell_type": "code",
   "execution_count": 175,
   "id": "fe95cd63-67ab-4c8b-b5e9-7a498d294592",
   "metadata": {},
   "outputs": [],
   "source": [
    "x1 = Value(2.0, label='x1')\n",
    "x2 =  Value(0.0, label='x2')\n",
    "w1 =  Value(-3.0, label='w1')\n",
    "w2 = Value(1.0, label='w2')\n",
    "b = Value(6.8813735870195432, label='b')\n",
    "x1w1 = x1*w1; x1w1.label = 'x1w1'\n",
    "x2w2 = x2*w2; x2w2.label = 'x2w2'\n",
    "\n",
    "x1w1x2w2 = x1w1+x2w2; x1w1x2w2.label = 'x1w1 + x2w2'\n",
    "\n",
    "n = x1w1x2w2 + b; n.label='n'\n",
    "o = n.tanh(); o.label='o'"
   ]
  },
  {
   "cell_type": "code",
   "execution_count": 188,
   "id": "6198f5fb-2cdc-43eb-8502-eebca50f9bf2",
   "metadata": {},
   "outputs": [
    {
     "data": {
      "image/svg+xml": [
       "<?xml version=\"1.0\" encoding=\"UTF-8\" standalone=\"no\"?>\n",
       "<!DOCTYPE svg PUBLIC \"-//W3C//DTD SVG 1.1//EN\"\n",
       " \"http://www.w3.org/Graphics/SVG/1.1/DTD/svg11.dtd\">\n",
       "<!-- Generated by graphviz version 7.1.0 (20230122.1345)\n",
       " -->\n",
       "<!-- Pages: 1 -->\n",
       "<svg width=\"1725pt\" height=\"210pt\"\n",
       " viewBox=\"0.00 0.00 1725.00 210.00\" xmlns=\"http://www.w3.org/2000/svg\" xmlns:xlink=\"http://www.w3.org/1999/xlink\">\n",
       "<g id=\"graph0\" class=\"graph\" transform=\"scale(1 1) rotate(0) translate(4 206)\">\n",
       "<polygon fill=\"white\" stroke=\"none\" points=\"-4,4 -4,-206 1721,-206 1721,4 -4,4\"/>\n",
       "<!-- 139953955036688 -->\n",
       "<g id=\"node1\" class=\"node\">\n",
       "<title>139953955036688</title>\n",
       "<polygon fill=\"none\" stroke=\"black\" points=\"2.5,-165.5 2.5,-201.5 246.5,-201.5 246.5,-165.5 2.5,-165.5\"/>\n",
       "<text text-anchor=\"middle\" x=\"19.5\" y=\"-179.8\" font-family=\"Times,serif\" font-size=\"14.00\">x1</text>\n",
       "<polyline fill=\"none\" stroke=\"black\" points=\"36.5,-165.5 36.5,-201.5\"/>\n",
       "<text text-anchor=\"middle\" x=\"87.5\" y=\"-179.8\" font-family=\"Times,serif\" font-size=\"14.00\">data 2.0000</text>\n",
       "<polyline fill=\"none\" stroke=\"black\" points=\"138.5,-165.5 138.5,-201.5\"/>\n",
       "<text text-anchor=\"middle\" x=\"192.5\" y=\"-179.8\" font-family=\"Times,serif\" font-size=\"14.00\">grad &#45;1.5000</text>\n",
       "</g>\n",
       "<!-- 139953955648224* -->\n",
       "<g id=\"node11\" class=\"node\">\n",
       "<title>139953955648224*</title>\n",
       "<ellipse fill=\"none\" stroke=\"black\" cx=\"312\" cy=\"-128.5\" rx=\"27\" ry=\"18\"/>\n",
       "<text text-anchor=\"middle\" x=\"312\" y=\"-124.8\" font-family=\"Times,serif\" font-size=\"14.00\">*</text>\n",
       "</g>\n",
       "<!-- 139953955036688&#45;&gt;139953955648224* -->\n",
       "<g id=\"edge6\" class=\"edge\">\n",
       "<title>139953955036688&#45;&gt;139953955648224*</title>\n",
       "<path fill=\"none\" stroke=\"black\" d=\"M217.8,-165.55C228.41,-162.83 239,-159.81 249,-156.5 259.18,-153.13 269.94,-148.63 279.59,-144.22\"/>\n",
       "<polygon fill=\"black\" stroke=\"black\" points=\"281,-147.42 288.55,-139.99 278.01,-141.09 281,-147.42\"/>\n",
       "</g>\n",
       "<!-- 139953955034144 -->\n",
       "<g id=\"node2\" class=\"node\">\n",
       "<title>139953955034144</title>\n",
       "<polygon fill=\"none\" stroke=\"black\" points=\"2.5,-55.5 2.5,-91.5 246.5,-91.5 246.5,-55.5 2.5,-55.5\"/>\n",
       "<text text-anchor=\"middle\" x=\"21.5\" y=\"-69.8\" font-family=\"Times,serif\" font-size=\"14.00\">w2</text>\n",
       "<polyline fill=\"none\" stroke=\"black\" points=\"40.5,-55.5 40.5,-91.5\"/>\n",
       "<text text-anchor=\"middle\" x=\"91.5\" y=\"-69.8\" font-family=\"Times,serif\" font-size=\"14.00\">data 1.0000</text>\n",
       "<polyline fill=\"none\" stroke=\"black\" points=\"142.5,-55.5 142.5,-91.5\"/>\n",
       "<text text-anchor=\"middle\" x=\"194.5\" y=\"-69.8\" font-family=\"Times,serif\" font-size=\"14.00\">grad 0.0000</text>\n",
       "</g>\n",
       "<!-- 139953955635456* -->\n",
       "<g id=\"node13\" class=\"node\">\n",
       "<title>139953955635456*</title>\n",
       "<ellipse fill=\"none\" stroke=\"black\" cx=\"312\" cy=\"-73.5\" rx=\"27\" ry=\"18\"/>\n",
       "<text text-anchor=\"middle\" x=\"312\" y=\"-69.8\" font-family=\"Times,serif\" font-size=\"14.00\">*</text>\n",
       "</g>\n",
       "<!-- 139953955034144&#45;&gt;139953955635456* -->\n",
       "<g id=\"edge10\" class=\"edge\">\n",
       "<title>139953955034144&#45;&gt;139953955635456*</title>\n",
       "<path fill=\"none\" stroke=\"black\" d=\"M246.38,-73.5C255.93,-73.5 265.03,-73.5 273.24,-73.5\"/>\n",
       "<polygon fill=\"black\" stroke=\"black\" points=\"273.06,-77 283.06,-73.5 273.06,-70 273.06,-77\"/>\n",
       "</g>\n",
       "<!-- 139953955037216 -->\n",
       "<g id=\"node3\" class=\"node\">\n",
       "<title>139953955037216</title>\n",
       "<polygon fill=\"none\" stroke=\"black\" points=\"0,-110.5 0,-146.5 249,-146.5 249,-110.5 0,-110.5\"/>\n",
       "<text text-anchor=\"middle\" x=\"19\" y=\"-124.8\" font-family=\"Times,serif\" font-size=\"14.00\">w1</text>\n",
       "<polyline fill=\"none\" stroke=\"black\" points=\"38,-110.5 38,-146.5\"/>\n",
       "<text text-anchor=\"middle\" x=\"91.5\" y=\"-124.8\" font-family=\"Times,serif\" font-size=\"14.00\">data &#45;3.0000</text>\n",
       "<polyline fill=\"none\" stroke=\"black\" points=\"145,-110.5 145,-146.5\"/>\n",
       "<text text-anchor=\"middle\" x=\"197\" y=\"-124.8\" font-family=\"Times,serif\" font-size=\"14.00\">grad 1.0000</text>\n",
       "</g>\n",
       "<!-- 139953955037216&#45;&gt;139953955648224* -->\n",
       "<g id=\"edge7\" class=\"edge\">\n",
       "<title>139953955037216&#45;&gt;139953955648224*</title>\n",
       "<path fill=\"none\" stroke=\"black\" d=\"M248.97,-128.5C257.54,-128.5 265.7,-128.5 273.14,-128.5\"/>\n",
       "<polygon fill=\"black\" stroke=\"black\" points=\"273.01,-132 283.01,-128.5 273.01,-125 273.01,-132\"/>\n",
       "</g>\n",
       "<!-- 139953955030640 -->\n",
       "<g id=\"node4\" class=\"node\">\n",
       "<title>139953955030640</title>\n",
       "<polygon fill=\"none\" stroke=\"black\" points=\"4.5,-0.5 4.5,-36.5 244.5,-36.5 244.5,-0.5 4.5,-0.5\"/>\n",
       "<text text-anchor=\"middle\" x=\"21.5\" y=\"-14.8\" font-family=\"Times,serif\" font-size=\"14.00\">x2</text>\n",
       "<polyline fill=\"none\" stroke=\"black\" points=\"38.5,-0.5 38.5,-36.5\"/>\n",
       "<text text-anchor=\"middle\" x=\"89.5\" y=\"-14.8\" font-family=\"Times,serif\" font-size=\"14.00\">data 0.0000</text>\n",
       "<polyline fill=\"none\" stroke=\"black\" points=\"140.5,-0.5 140.5,-36.5\"/>\n",
       "<text text-anchor=\"middle\" x=\"192.5\" y=\"-14.8\" font-family=\"Times,serif\" font-size=\"14.00\">grad 0.5000</text>\n",
       "</g>\n",
       "<!-- 139953955030640&#45;&gt;139953955635456* -->\n",
       "<g id=\"edge11\" class=\"edge\">\n",
       "<title>139953955030640&#45;&gt;139953955635456*</title>\n",
       "<path fill=\"none\" stroke=\"black\" d=\"M214.09,-36.46C225.92,-39.48 237.82,-42.84 249,-46.5 259.05,-49.8 269.71,-54.12 279.3,-58.33\"/>\n",
       "<polygon fill=\"black\" stroke=\"black\" points=\"277.65,-61.43 288.2,-62.36 280.53,-55.05 277.65,-61.43\"/>\n",
       "</g>\n",
       "<!-- 139953955637376 -->\n",
       "<g id=\"node5\" class=\"node\">\n",
       "<title>139953955637376</title>\n",
       "<polygon fill=\"none\" stroke=\"black\" points=\"1218,-54.5 1218,-90.5 1450,-90.5 1450,-54.5 1218,-54.5\"/>\n",
       "<text text-anchor=\"middle\" x=\"1231\" y=\"-68.8\" font-family=\"Times,serif\" font-size=\"14.00\">n</text>\n",
       "<polyline fill=\"none\" stroke=\"black\" points=\"1244,-54.5 1244,-90.5\"/>\n",
       "<text text-anchor=\"middle\" x=\"1295\" y=\"-68.8\" font-family=\"Times,serif\" font-size=\"14.00\">data 0.8814</text>\n",
       "<polyline fill=\"none\" stroke=\"black\" points=\"1346,-54.5 1346,-90.5\"/>\n",
       "<text text-anchor=\"middle\" x=\"1398\" y=\"-68.8\" font-family=\"Times,serif\" font-size=\"14.00\">grad 0.5000</text>\n",
       "</g>\n",
       "<!-- 139953955643088 -->\n",
       "<g id=\"node9\" class=\"node\">\n",
       "<title>139953955643088</title>\n",
       "<polygon fill=\"none\" stroke=\"black\" points=\"1486,-54.5 1486,-90.5 1717,-90.5 1717,-54.5 1486,-54.5\"/>\n",
       "<text text-anchor=\"middle\" x=\"1498.5\" y=\"-68.8\" font-family=\"Times,serif\" font-size=\"14.00\">o</text>\n",
       "<polyline fill=\"none\" stroke=\"black\" points=\"1511,-54.5 1511,-90.5\"/>\n",
       "<text text-anchor=\"middle\" x=\"1562\" y=\"-68.8\" font-family=\"Times,serif\" font-size=\"14.00\">data 0.7071</text>\n",
       "<polyline fill=\"none\" stroke=\"black\" points=\"1613,-54.5 1613,-90.5\"/>\n",
       "<text text-anchor=\"middle\" x=\"1665\" y=\"-68.8\" font-family=\"Times,serif\" font-size=\"14.00\">grad 1.0000</text>\n",
       "</g>\n",
       "<!-- 139953955637376&#45;&gt;139953955643088 -->\n",
       "<g id=\"edge13\" class=\"edge\">\n",
       "<title>139953955637376&#45;&gt;139953955643088</title>\n",
       "<path fill=\"none\" stroke=\"black\" d=\"M1449.91,-72.5C1458.19,-72.5 1466.57,-72.5 1474.92,-72.5\"/>\n",
       "<polygon fill=\"black\" stroke=\"black\" points=\"1474.74,-76 1484.74,-72.5 1474.74,-69 1474.74,-76\"/>\n",
       "</g>\n",
       "<!-- 139953955637376+ -->\n",
       "<g id=\"node6\" class=\"node\">\n",
       "<title>139953955637376+</title>\n",
       "<ellipse fill=\"none\" stroke=\"black\" cx=\"1155\" cy=\"-72.5\" rx=\"27\" ry=\"18\"/>\n",
       "<text text-anchor=\"middle\" x=\"1155\" y=\"-68.8\" font-family=\"Times,serif\" font-size=\"14.00\">+</text>\n",
       "</g>\n",
       "<!-- 139953955637376+&#45;&gt;139953955637376 -->\n",
       "<g id=\"edge1\" class=\"edge\">\n",
       "<title>139953955637376+&#45;&gt;139953955637376</title>\n",
       "<path fill=\"none\" stroke=\"black\" d=\"M1182.5,-72.5C1189.62,-72.5 1197.81,-72.5 1206.63,-72.5\"/>\n",
       "<polygon fill=\"black\" stroke=\"black\" points=\"1206.57,-76 1216.57,-72.5 1206.57,-69 1206.57,-76\"/>\n",
       "</g>\n",
       "<!-- 139953955649184 -->\n",
       "<g id=\"node7\" class=\"node\">\n",
       "<title>139953955649184</title>\n",
       "<polygon fill=\"none\" stroke=\"black\" points=\"767,-82.5 767,-118.5 1092,-118.5 1092,-82.5 767,-82.5\"/>\n",
       "<text text-anchor=\"middle\" x=\"824\" y=\"-96.8\" font-family=\"Times,serif\" font-size=\"14.00\">x1w1 + x2w2</text>\n",
       "<polyline fill=\"none\" stroke=\"black\" points=\"881,-82.5 881,-118.5\"/>\n",
       "<text text-anchor=\"middle\" x=\"934.5\" y=\"-96.8\" font-family=\"Times,serif\" font-size=\"14.00\">data &#45;6.0000</text>\n",
       "<polyline fill=\"none\" stroke=\"black\" points=\"988,-82.5 988,-118.5\"/>\n",
       "<text text-anchor=\"middle\" x=\"1040\" y=\"-96.8\" font-family=\"Times,serif\" font-size=\"14.00\">grad 0.5000</text>\n",
       "</g>\n",
       "<!-- 139953955649184&#45;&gt;139953955637376+ -->\n",
       "<g id=\"edge12\" class=\"edge\">\n",
       "<title>139953955649184&#45;&gt;139953955637376+</title>\n",
       "<path fill=\"none\" stroke=\"black\" d=\"M1073.94,-82.53C1089.66,-80.56 1104.47,-78.71 1116.97,-77.14\"/>\n",
       "<polygon fill=\"black\" stroke=\"black\" points=\"1117.22,-80.64 1126.71,-75.92 1116.35,-73.69 1117.22,-80.64\"/>\n",
       "</g>\n",
       "<!-- 139953955649184+ -->\n",
       "<g id=\"node8\" class=\"node\">\n",
       "<title>139953955649184+</title>\n",
       "<ellipse fill=\"none\" stroke=\"black\" cx=\"704\" cy=\"-100.5\" rx=\"27\" ry=\"18\"/>\n",
       "<text text-anchor=\"middle\" x=\"704\" y=\"-96.8\" font-family=\"Times,serif\" font-size=\"14.00\">+</text>\n",
       "</g>\n",
       "<!-- 139953955649184+&#45;&gt;139953955649184 -->\n",
       "<g id=\"edge2\" class=\"edge\">\n",
       "<title>139953955649184+&#45;&gt;139953955649184</title>\n",
       "<path fill=\"none\" stroke=\"black\" d=\"M731.08,-100.5C738.36,-100.5 746.86,-100.5 756.15,-100.5\"/>\n",
       "<polygon fill=\"black\" stroke=\"black\" points=\"755.9,-104 765.9,-100.5 755.9,-97 755.9,-104\"/>\n",
       "</g>\n",
       "<!-- 139953955648224 -->\n",
       "<g id=\"node10\" class=\"node\">\n",
       "<title>139953955648224</title>\n",
       "<polygon fill=\"none\" stroke=\"black\" points=\"375,-110.5 375,-146.5 641,-146.5 641,-110.5 375,-110.5\"/>\n",
       "<text text-anchor=\"middle\" x=\"402.5\" y=\"-124.8\" font-family=\"Times,serif\" font-size=\"14.00\">x1w1</text>\n",
       "<polyline fill=\"none\" stroke=\"black\" points=\"430,-110.5 430,-146.5\"/>\n",
       "<text text-anchor=\"middle\" x=\"483.5\" y=\"-124.8\" font-family=\"Times,serif\" font-size=\"14.00\">data &#45;6.0000</text>\n",
       "<polyline fill=\"none\" stroke=\"black\" points=\"537,-110.5 537,-146.5\"/>\n",
       "<text text-anchor=\"middle\" x=\"589\" y=\"-124.8\" font-family=\"Times,serif\" font-size=\"14.00\">grad 0.5000</text>\n",
       "</g>\n",
       "<!-- 139953955648224&#45;&gt;139953955649184+ -->\n",
       "<g id=\"edge8\" class=\"edge\">\n",
       "<title>139953955648224&#45;&gt;139953955649184+</title>\n",
       "<path fill=\"none\" stroke=\"black\" d=\"M633.51,-110.53C645.16,-108.85 656.22,-107.25 665.97,-105.85\"/>\n",
       "<polygon fill=\"black\" stroke=\"black\" points=\"666.24,-109.34 675.64,-104.45 665.24,-102.41 666.24,-109.34\"/>\n",
       "</g>\n",
       "<!-- 139953955648224*&#45;&gt;139953955648224 -->\n",
       "<g id=\"edge3\" class=\"edge\">\n",
       "<title>139953955648224*&#45;&gt;139953955648224</title>\n",
       "<path fill=\"none\" stroke=\"black\" d=\"M339.16,-128.5C346.37,-128.5 354.72,-128.5 363.78,-128.5\"/>\n",
       "<polygon fill=\"black\" stroke=\"black\" points=\"363.62,-132 373.62,-128.5 363.62,-125 363.62,-132\"/>\n",
       "</g>\n",
       "<!-- 139953955635456 -->\n",
       "<g id=\"node12\" class=\"node\">\n",
       "<title>139953955635456</title>\n",
       "<polygon fill=\"none\" stroke=\"black\" points=\"377.5,-55.5 377.5,-91.5 638.5,-91.5 638.5,-55.5 377.5,-55.5\"/>\n",
       "<text text-anchor=\"middle\" x=\"405\" y=\"-69.8\" font-family=\"Times,serif\" font-size=\"14.00\">x2w2</text>\n",
       "<polyline fill=\"none\" stroke=\"black\" points=\"432.5,-55.5 432.5,-91.5\"/>\n",
       "<text text-anchor=\"middle\" x=\"483.5\" y=\"-69.8\" font-family=\"Times,serif\" font-size=\"14.00\">data 0.0000</text>\n",
       "<polyline fill=\"none\" stroke=\"black\" points=\"534.5,-55.5 534.5,-91.5\"/>\n",
       "<text text-anchor=\"middle\" x=\"586.5\" y=\"-69.8\" font-family=\"Times,serif\" font-size=\"14.00\">grad 0.5000</text>\n",
       "</g>\n",
       "<!-- 139953955635456&#45;&gt;139953955649184+ -->\n",
       "<g id=\"edge9\" class=\"edge\">\n",
       "<title>139953955635456&#45;&gt;139953955649184+</title>\n",
       "<path fill=\"none\" stroke=\"black\" d=\"M638.13,-91.47C648.09,-92.86 657.53,-94.17 665.98,-95.35\"/>\n",
       "<polygon fill=\"black\" stroke=\"black\" points=\"665.32,-98.79 675.71,-96.7 666.28,-91.86 665.32,-98.79\"/>\n",
       "</g>\n",
       "<!-- 139953955635456*&#45;&gt;139953955635456 -->\n",
       "<g id=\"edge4\" class=\"edge\">\n",
       "<title>139953955635456*&#45;&gt;139953955635456</title>\n",
       "<path fill=\"none\" stroke=\"black\" d=\"M339.16,-73.5C347.06,-73.5 356.34,-73.5 366.41,-73.5\"/>\n",
       "<polygon fill=\"black\" stroke=\"black\" points=\"366.1,-77 376.1,-73.5 366.1,-70 366.1,-77\"/>\n",
       "</g>\n",
       "<!-- 139953955039184 -->\n",
       "<g id=\"node14\" class=\"node\">\n",
       "<title>139953955039184</title>\n",
       "<polygon fill=\"none\" stroke=\"black\" points=\"813.5,-27.5 813.5,-63.5 1045.5,-63.5 1045.5,-27.5 813.5,-27.5\"/>\n",
       "<text text-anchor=\"middle\" x=\"826.5\" y=\"-41.8\" font-family=\"Times,serif\" font-size=\"14.00\">b</text>\n",
       "<polyline fill=\"none\" stroke=\"black\" points=\"839.5,-27.5 839.5,-63.5\"/>\n",
       "<text text-anchor=\"middle\" x=\"890.5\" y=\"-41.8\" font-family=\"Times,serif\" font-size=\"14.00\">data 6.8814</text>\n",
       "<polyline fill=\"none\" stroke=\"black\" points=\"941.5,-27.5 941.5,-63.5\"/>\n",
       "<text text-anchor=\"middle\" x=\"993.5\" y=\"-41.8\" font-family=\"Times,serif\" font-size=\"14.00\">grad 0.5000</text>\n",
       "</g>\n",
       "<!-- 139953955039184&#45;&gt;139953955637376+ -->\n",
       "<g id=\"edge5\" class=\"edge\">\n",
       "<title>139953955039184&#45;&gt;139953955637376+</title>\n",
       "<path fill=\"none\" stroke=\"black\" d=\"M1045.2,-59.36C1071.06,-62.48 1096.71,-65.58 1116.6,-67.98\"/>\n",
       "<polygon fill=\"black\" stroke=\"black\" points=\"1116.05,-71.44 1126.4,-69.17 1116.89,-64.49 1116.05,-71.44\"/>\n",
       "</g>\n",
       "</g>\n",
       "</svg>\n"
      ],
      "text/plain": [
       "<graphviz.graphs.Digraph at 0x7f4991cfa890>"
      ]
     },
     "execution_count": 188,
     "metadata": {},
     "output_type": "execute_result"
    }
   ],
   "source": [
    "draw_dot(o)"
   ]
  },
  {
   "cell_type": "code",
   "execution_count": 157,
   "id": "87d31917-2b15-44a2-901c-a1af3e2f773a",
   "metadata": {},
   "outputs": [
    {
     "data": {
      "text/plain": [
       "0.4999999999999999"
      ]
     },
     "execution_count": 157,
     "metadata": {},
     "output_type": "execute_result"
    }
   ],
   "source": [
    "# derivative of tanh\n",
    "#1-tanh(x)**2\n",
    "der_tanh = 1 - o.data**2\n",
    "der_tanh"
   ]
  },
  {
   "cell_type": "code",
   "execution_count": 166,
   "id": "2070a767-e168-4674-be58-1f85a4bb6c2c",
   "metadata": {},
   "outputs": [],
   "source": [
    "# Manual Calculation of derivatives\n",
    "o.grad = 1.0\n",
    "n.grad = 0.5\n",
    "x1w1x2w2.grad = 0.5\n",
    "b.grad = 0.5\n",
    "x1w1.grad = 0.5\n",
    "x2w2.grad = 0.5\n",
    "x2.grad = w2.data * x2w2.grad\n",
    "w2.grad = x2.data * x2w2.grad\n",
    "x1.grad = w1.data * x1w1.grad\n",
    "w1.grad = x1.data * x1w1.grad"
   ]
  },
  {
   "cell_type": "markdown",
   "id": "73942ace-1caf-4117-b65d-3f5b405f6691",
   "metadata": {},
   "source": [
    "### Using our backward method"
   ]
  },
  {
   "cell_type": "code",
   "execution_count": 177,
   "id": "ed5824c0-bf32-4c53-a245-948019639138",
   "metadata": {},
   "outputs": [],
   "source": [
    "o.grad = 1.0"
   ]
  },
  {
   "cell_type": "code",
   "execution_count": 179,
   "id": "1de79936-1bcc-4860-8f1b-425f3bc905aa",
   "metadata": {},
   "outputs": [],
   "source": [
    "o._backward()"
   ]
  },
  {
   "cell_type": "code",
   "execution_count": 181,
   "id": "3589d64c-9683-41b7-9bca-d1eeb9291c71",
   "metadata": {},
   "outputs": [],
   "source": [
    "n._backward()"
   ]
  },
  {
   "cell_type": "code",
   "execution_count": 183,
   "id": "1ca68622-4bd0-4d50-9dc2-f0e361358f82",
   "metadata": {},
   "outputs": [],
   "source": [
    "x1w1x2w2._backward()"
   ]
  },
  {
   "cell_type": "code",
   "execution_count": 184,
   "id": "320c6cac-7898-444b-97af-5ffd3fabca37",
   "metadata": {},
   "outputs": [],
   "source": [
    "b._backward() # No effect - has no  children"
   ]
  },
  {
   "cell_type": "code",
   "execution_count": 186,
   "id": "43e2d195-2e32-4434-82dd-4ab185e5d12f",
   "metadata": {},
   "outputs": [],
   "source": [
    "x1w1._backward()"
   ]
  },
  {
   "cell_type": "code",
   "execution_count": 187,
   "id": "0125c308-968d-4ebb-aca2-0886c13da49c",
   "metadata": {},
   "outputs": [],
   "source": [
    "x2w2._backward()"
   ]
  }
 ],
 "metadata": {
  "kernelspec": {
   "display_name": "Python 3 (ipykernel)",
   "language": "python",
   "name": "python3"
  },
  "language_info": {
   "codemirror_mode": {
    "name": "ipython",
    "version": 3
   },
   "file_extension": ".py",
   "mimetype": "text/x-python",
   "name": "python",
   "nbconvert_exporter": "python",
   "pygments_lexer": "ipython3",
   "version": "3.10.12"
  }
 },
 "nbformat": 4,
 "nbformat_minor": 5
}
