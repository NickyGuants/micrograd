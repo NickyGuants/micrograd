{
 "cells": [
  {
   "cell_type": "code",
   "execution_count": 1,
   "id": "08bb2e1c-9784-40d1-a3d8-404c7b589f4a",
   "metadata": {},
   "outputs": [],
   "source": [
    "import numpy as np\n",
    "import math\n",
    "import matplotlib.pyplot as plt\n",
    "%matplotlib inline"
   ]
  },
  {
   "cell_type": "code",
   "execution_count": 10,
   "id": "c6ebc281-3ab5-49a0-a67b-d86dfddbb456",
   "metadata": {},
   "outputs": [],
   "source": [
    "def f(x):\n",
    "    return 3*x**2-4*x +5"
   ]
  },
  {
   "cell_type": "code",
   "execution_count": 13,
   "id": "eed9521d-a4eb-46f5-b187-597ac54cc282",
   "metadata": {},
   "outputs": [
    {
     "data": {
      "image/png": "[encoded data removed]",
      "text/plain": [
       "<Figure size 640x480 with 1 Axes>"
      ]
     },
     "metadata": {},
     "output_type": "display_data"
    }
   ],
   "source": [
    "xs = np.arange(-5,5, 0.25)\n",
    "ys = f(xs)\n",
    "plt.plot(xs, ys)\n",
    "plt.xlabel('x')\n",
    "plt.ylabel('f(x)')\n",
    "plt.show()"
   ]
  },
  {
   "cell_type": "code",
   "execution_count": 50,
   "id": "649d17a5-08e6-4f13-8e17-5f7f07960faa",
   "metadata": {},
   "outputs": [
    {
     "name": "stdout",
     "output_type": "stream",
     "text": [
      "4.0\n"
     ]
    }
   ],
   "source": [
    "a = 2.0\n",
    "b = -3.0\n",
    "c =10.0\n",
    "\n",
    "d = a*b +10\n",
    "print(d)"
   ]
  },
  {
   "cell_type": "code",
   "execution_count": 104,
   "id": "db782721-a02c-407f-a454-7225313df19b",
   "metadata": {},
   "outputs": [],
   "source": [
    "class Value:\n",
    "    def __init__(self, data, _children=(), _op=(), label=''):\n",
    "        self.data = data\n",
    "        self.prev = set(_children)\n",
    "        self.label = label\n",
    "        self.grad = 0.0\n",
    "        \n",
    "    def __repr__(self):\n",
    "        return f'Value(data={self.data})'\n",
    "        \n",
    "    def __add__(self, other):\n",
    "        if not isinstance(other, Value):\n",
    "            other = Value(other)\n",
    "        out = Value(self.data+other.data, (self, other),_op='+')\n",
    "        return out\n",
    "        \n",
    "    def __radd__(self, other):\n",
    "        if not isinstance(other, Value):\n",
    "            other = Value(other)\n",
    "        out = Value(self.data+other.data, (self, other),_op='+')\n",
    "        return out\n",
    "        \n",
    "    def __mul__(self, other):\n",
    "        if not isinstance(other, Value):\n",
    "            other = Value(other)\n",
    "        out = Value(self.data * other.data, (self,other), _op='*')\n",
    "        return out\n",
    "        \n",
    "    def __rmul__(self, other):\n",
    "        if not isinstance(other, Value):\n",
    "            other = Value(other)\n",
    "        out = Value(self.data * other.data, (self,other), _op='*')\n",
    "        return out\n"
   ]
  },
  {
   "cell_type": "code",
   "execution_count": 106,
   "id": "a48d830c-f705-46d0-ab67-d7d6b6e86334",
   "metadata": {},
   "outputs": [
    {
     "data": {
      "text/plain": [
       "(Value(data=2.0), Value(data=-3.0), Value(data=10.0))"
      ]
     },
     "execution_count": 106,
     "metadata": {},
     "output_type": "execute_result"
    }
   ],
   "source": [
    "a = Value(2.0); a.label='a'\n",
    "b = Value(-3.0); b.label='b'\n",
    "c = Value(10.0); c.label ='c'\n",
    "a,b,c"
   ]
  },
  {
   "cell_type": "code",
   "execution_count": 107,
   "id": "e36eae7e-8a80-40d5-97d7-8a6529d952e5",
   "metadata": {},
   "outputs": [
    {
     "data": {
      "text/plain": [
       "(Value(data=-1.0),\n",
       " Value(data=-6.0),\n",
       " Value(data=-6.0),\n",
       " Value(data=3.0),\n",
       " Value(data=3.0),\n",
       " Value(data=4.0),\n",
       " Value(data=4.0))"
      ]
     },
     "execution_count": 107,
     "metadata": {},
     "output_type": "execute_result"
    }
   ],
   "source": [
    "a+b, a*b, b*a, a+1, 1+a, a*2, 2*a"
   ]
  },
  {
   "cell_type": "code",
   "execution_count": 112,
   "id": "56c23a5f-9188-4c78-bc7b-ed5d60d30e9c",
   "metadata": {},
   "outputs": [
    {
     "name": "stdout",
     "output_type": "stream",
     "text": [
      "<class '__main__.Value'>\n"
     ]
    }
   ],
   "source": [
    "d = a*b +c\n",
    "print(type(d))"
   ]
  },
  {
   "cell_type": "code",
   "execution_count": 113,
   "id": "707312f2-a3a3-4688-b23c-50a41466fb85",
   "metadata": {},
   "outputs": [
    {
     "data": {
      "text/plain": [
       "{Value(data=-6.0), Value(data=10.0)}"
      ]
     },
     "execution_count": 113,
     "metadata": {},
     "output_type": "execute_result"
    }
   ],
   "source": [
    "d.prev"
   ]
  }
 ],
 "metadata": {
  "kernelspec": {
   "display_name": "Python 3 (ipykernel)",
   "language": "python",
   "name": "python3"
  },
  "language_info": {
   "codemirror_mode": {
    "name": "ipython",
    "version": 3
   },
   "file_extension": ".py",
   "mimetype": "text/x-python",
   "name": "python",
   "nbconvert_exporter": "python",
   "pygments_lexer": "ipython3",
   "version": "3.10.12"
  }
 },
 "nbformat": 4,
 "nbformat_minor": 5
}
